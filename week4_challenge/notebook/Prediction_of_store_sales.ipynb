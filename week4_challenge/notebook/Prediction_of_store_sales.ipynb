{
 "cells": [
  {
   "cell_type": "code",
   "execution_count": 2,
   "metadata": {},
   "outputs": [],
   "source": [
    "#\n",
    "# Import necessary libraries\n",
    "import pandas as pd\n",
    "import numpy as np\n",
    "from sklearn.model_selection import train_test_split, GridSearchCV\n",
    "from sklearn.preprocessing import StandardScaler, OneHotEncoder\n",
    "from sklearn.compose import ColumnTransformer\n",
    "from sklearn.pipeline import Pipeline\n",
    "from sklearn.impute import SimpleImputer\n",
    "from sklearn.ensemble import RandomForestRegressor\n",
    "from sklearn.metrics import mean_absolute_error, mean_squared_error\n",
    "from sklearn.metrics import mean_squared_error, r2_score\n",
    "import joblib\n"
   ]
  },
  {
   "cell_type": "code",
   "execution_count": 3,
   "metadata": {},
   "outputs": [
    {
     "name": "stderr",
     "output_type": "stream",
     "text": [
      "C:\\Users\\eep\\AppData\\Local\\Temp\\ipykernel_31660\\2920406418.py:2: DtypeWarning: Columns (7) have mixed types. Specify dtype option on import or set low_memory=False.\n",
      "  train = pd.read_csv(r'..\\Data\\train.csv', parse_dates=['Date'])\n"
     ]
    }
   ],
   "source": [
    "# load data and Preprocessin\n",
    "train = pd.read_csv(r'..\\Data\\train.csv', parse_dates=['Date'])\n",
    "test = pd.read_csv(r'..\\Data\\test.csv', parse_dates=['Date'])\n",
    "store = pd.read_csv(r'..\\Data\\store.csv')"
   ]
  },
  {
   "cell_type": "code",
   "execution_count": 4,
   "metadata": {},
   "outputs": [
    {
     "name": "stdout",
     "output_type": "stream",
     "text": [
      "0    0\n",
      "1    0\n",
      "2    0\n",
      "3    0\n",
      "4    0\n",
      "Name: StateHoliday, dtype: int32\n",
      "0    0\n",
      "1    0\n",
      "2    0\n",
      "3    0\n",
      "4    0\n",
      "Name: StateHoliday, dtype: int32\n"
     ]
    }
   ],
   "source": [
    "# Convert 'Date' columns to datetime\n",
    "train['Date'] = pd.to_datetime(train['Date'])\n",
    "test['Date'] = pd.to_datetime(test['Date'])\n",
    "\n",
    "# Fill missing values in 'StateHoliday' with '0' (assuming no holiday)\n",
    "train['StateHoliday'] = train['StateHoliday'].fillna('0')\n",
    "test['StateHoliday'] = test['StateHoliday'].fillna('0')\n",
    "\n",
    "# Ensure all values in 'StateHoliday' are strings before mapping\n",
    "train['StateHoliday'] = train['StateHoliday'].astype(str)\n",
    "test['StateHoliday'] = test['StateHoliday'].astype(str)\n",
    "\n",
    "# Map 'StateHoliday' values to numeric (0 for '0', 1 for 'a', 2 for 'b', etc.)\n",
    "train['StateHoliday'] = train['StateHoliday'].map({'0': 0, 'a': 1, 'b': 2, 'c': 3})\n",
    "test['StateHoliday'] = test['StateHoliday'].map({'0': 0, 'a': 1})\n",
    "\n",
    "# Check for NaN values after mapping and handle them by filling with 0 and converting to int\n",
    "train['StateHoliday'] = train['StateHoliday'].fillna(0).astype(int)\n",
    "test['StateHoliday'] = test['StateHoliday'].fillna(0).astype(int)\n",
    "\n",
    "# Verify the conversion\n",
    "print(train['StateHoliday'].head())\n",
    "print(test['StateHoliday'].head())"
   ]
  },
  {
   "cell_type": "code",
   "execution_count": 5,
   "metadata": {},
   "outputs": [
    {
     "name": "stdout",
     "output_type": "stream",
     "text": [
      "Store            0\n",
      "DayOfWeek        0\n",
      "Date             0\n",
      "Sales            0\n",
      "Customers        0\n",
      "Open             0\n",
      "Promo            0\n",
      "StateHoliday     0\n",
      "SchoolHoliday    0\n",
      "dtype: int64\n"
     ]
    }
   ],
   "source": [
    "# Check for missing values\n",
    "print(train.isnull().sum())"
   ]
  },
  {
   "cell_type": "code",
   "execution_count": 6,
   "metadata": {},
   "outputs": [],
   "source": [
    "# Extract features from 'Date'\n",
    "train['Year'] = train['Date'].dt.year\n",
    "train['Month'] = train['Date'].dt.month\n",
    "train['Day'] = train['Date'].dt.day\n",
    "train['WeekOfYear'] = train['Date'].dt.isocalendar().week\n",
    "train['DayOfWeek'] = train['Date'].dt.dayofweek\n",
    "\n",
    "# Repeat for test set\n",
    "test['Year'] = test['Date'].dt.year\n",
    "test['Month'] = test['Date'].dt.month\n",
    "test['Day'] = test['Date'].dt.day\n",
    "test['WeekOfYear'] = test['Date'].dt.isocalendar().week\n",
    "test['DayOfWeek'] = test['Date'].dt.dayofweek\n"
   ]
  },
  {
   "cell_type": "code",
   "execution_count": 7,
   "metadata": {},
   "outputs": [
    {
     "name": "stdout",
     "output_type": "stream",
     "text": [
      "Store                     int64\n",
      "DayOfWeek                 int32\n",
      "Date             datetime64[ns]\n",
      "Sales                   float64\n",
      "Customers               float64\n",
      "Open                      int64\n",
      "Promo                   float64\n",
      "StateHoliday            float64\n",
      "SchoolHoliday           float64\n",
      "Year                      int32\n",
      "Month                     int32\n",
      "Day                       int32\n",
      "WeekOfYear               UInt32\n",
      "MonthSegment           category\n",
      "dtype: object\n",
      "   Store  DayOfWeek       Date     Sales  ...  Month  Day  WeekOfYear  MonthSegment\n",
      "0      1          4 2015-07-31 -0.132683  ...      7   31          31          Late\n",
      "1      2          4 2015-07-31  0.075373  ...      7   31          31          Late\n",
      "2      3          4 2015-07-31  0.659800  ...      7   31          31          Late\n",
      "3      4          4 2015-07-31  2.135414  ...      7   31          31          Late\n",
      "4      5          4 2015-07-31 -0.247231  ...      7   31          31          Late\n",
      "\n",
      "[5 rows x 14 columns]\n",
      "Id                        int64\n",
      "Store                     int64\n",
      "DayOfWeek                 int32\n",
      "Date             datetime64[ns]\n",
      "Open                    float64\n",
      "Promo                   float64\n",
      "StateHoliday            float64\n",
      "SchoolHoliday           float64\n",
      "Year                      int32\n",
      "Month                     int32\n",
      "Day                       int32\n",
      "WeekOfYear               UInt32\n",
      "MonthSegment           category\n",
      "dtype: object\n",
      "   Store  DayOfWeek       Date     Sales  ...  Month  Day  WeekOfYear  MonthSegment\n",
      "0      1          4 2015-07-31 -0.132683  ...      7   31          31          Late\n",
      "1      2          4 2015-07-31  0.075373  ...      7   31          31          Late\n",
      "2      3          4 2015-07-31  0.659800  ...      7   31          31          Late\n",
      "3      4          4 2015-07-31  2.135414  ...      7   31          31          Late\n",
      "4      5          4 2015-07-31 -0.247231  ...      7   31          31          Late\n",
      "\n",
      "[5 rows x 14 columns]\n"
     ]
    }
   ],
   "source": [
    " #Add New Features\n",
    "# creating categorical features (month segments)\n",
    "train['MonthSegment'] = pd.cut(train['Day'], bins=[0, 10, 20, 31], labels=['Early', 'Mid', 'Late'], right=True)\n",
    "test['MonthSegment'] = pd.cut(test['Day'], bins=[0, 10, 20, 31], labels=['Early', 'Mid', 'Late'], right=True)\n",
    "\n",
    "# Select numeric columns for scaling\n",
    "numeric_features_train = ['Sales', 'Customers', 'Promo', 'StateHoliday', 'SchoolHoliday']\n",
    "numeric_features_test = ['Promo', 'StateHoliday', 'SchoolHoliday']  # Exclude 'Sales' and 'Customers'\n",
    "\n",
    "# Initialize the StandardScaler for the training dataset\n",
    "scaler_train = StandardScaler()\n",
    "train[numeric_features_train] = scaler_train.fit_transform(train[numeric_features_train])\n",
    "\n",
    "# Initialize a different StandardScaler for the test dataset\n",
    "scaler_test = StandardScaler()\n",
    "test[numeric_features_test] = scaler_test.fit_transform(test[numeric_features_test])\n",
    "\n",
    "# Check the final data types and the first few rows of the dataset\n",
    "print(train.dtypes)\n",
    "print(train.head())\n",
    "print(test.dtypes)\n",
    "print(train.head())"
   ]
  },
  {
   "cell_type": "code",
   "execution_count": 8,
   "metadata": {},
   "outputs": [
    {
     "name": "stdout",
     "output_type": "stream",
     "text": [
      "Mean Squared Error: 0.14399346718320413\n",
      "R² Score: 0.8556840467636682\n"
     ]
    }
   ],
   "source": [
    "# Features and target variable\n",
    "X = train.drop(columns=['Sales', 'Date'])  # Drop target variable and any non-numeric columns\n",
    "y = train['Sales']\n",
    "\n",
    "# Split data\n",
    "X_train, X_val, y_train, y_val = train_test_split(X, y, test_size=0.2, random_state=42)\n",
    "\n",
    "# Identify numeric and categorical features\n",
    "# Corrected to only include numeric features\n",
    "numeric_features = ['Customers', 'Promo'] \n",
    "categorical_features = ['MonthSegment', 'StateHoliday', 'SchoolHoliday'] \n",
    "\n",
    "# Create a column transformer\n",
    "preprocessor = ColumnTransformer(\n",
    "    transformers=[\n",
    "        ('num', StandardScaler(), numeric_features),\n",
    "        ('cat', OneHotEncoder(), categorical_features)\n",
    "    ]\n",
    ")\n",
    "\n",
    "# Create pipeline\n",
    "pipeline = Pipeline(steps=[\n",
    "    ('preprocessor', preprocessor),\n",
    "    ('model', RandomForestRegressor(n_estimators=100, random_state=42))\n",
    "])\n",
    "\n",
    "# Fit the model\n",
    "pipeline.fit(X_train, y_train)\n",
    "\n",
    "# Evaluate\n",
    "y_pred = pipeline.predict(X_val)\n",
    "mse = mean_squared_error(y_val, y_pred)\n",
    "r2 = r2_score(y_val, y_pred)\n",
    "\n",
    "print(f'Mean Squared Error: {mse}')\n",
    "print(f'R² Score: {r2}')"
   ]
  },
  {
   "cell_type": "code",
   "execution_count": 9,
   "metadata": {},
   "outputs": [
    {
     "name": "stdout",
     "output_type": "stream",
     "text": [
      "        Actual Sales  Predicted Sales\n",
      "76435      -1.499723        -1.499723\n",
      "923026     -0.058655         0.579576\n",
      "731180      0.439796         0.693115\n",
      "790350     -0.626978        -0.642233\n",
      "252134      1.465011         0.708196\n"
     ]
    }
   ],
   "source": [
    "# Create a DataFrame to show actual vs predicted values\n",
    "results = pd.DataFrame({'Actual Sales': y_val, 'Predicted Sales': y_pred})\n",
    "print(results.head())  # Display the first few rows of actual vs predicted sales"
   ]
  },
  {
   "cell_type": "code",
   "execution_count": 10,
   "metadata": {},
   "outputs": [
    {
     "name": "stdout",
     "output_type": "stream",
     "text": [
      "Mean Absolute Error: 0.24596165060694028\n"
     ]
    }
   ],
   "source": [
    "from sklearn.metrics import mean_absolute_error\n",
    "\n",
    "# Evaluate\n",
    "y_pred = pipeline.predict(X_val)\n",
    "mae = mean_absolute_error(y_val, y_pred)\n",
    "\n",
    "# Print evaluation metrics\n",
    "print(f'Mean Absolute Error: {mae}')"
   ]
  },
  {
   "cell_type": "code",
   "execution_count": 11,
   "metadata": {},
   "outputs": [
    {
     "name": "stdout",
     "output_type": "stream",
     "text": [
      "Fitting 5 folds for each of 20 candidates, totalling 100 fits\n"
     ]
    }
   ],
   "source": [
    "# Hyperparameter Tuning with GridSearchCV\n",
    "from sklearn.model_selection import RandomizedSearchCV\n",
    "\n",
    "# Define the corrected parameter grid (removed 'auto' for max_features)\n",
    "param_dist = {\n",
    "    'model__n_estimators': [50, 100, 200],\n",
    "    'model__max_features': ['sqrt', 'log2'],  # 'auto' removed\n",
    "    'model__max_depth': [None, 10, 20, 30],\n",
    "    'model__min_samples_split': [2, 5, 10],\n",
    "}\n",
    "\n",
    "# Set up GridSearchCV\n",
    "random_search = RandomizedSearchCV(pipeline, param_dist, n_iter=20, cv=3, scoring='neg_mean_squared_error', verbose=1, random_state=42)\n",
    "\n",
    "# Fit the model\n",
    "random_search.fit(X_train, y_train)\n",
    "\n",
    "# Best parameters\n",
    "print(\"Best parameters found: \", random_search.best_params_)\n"
   ]
  },
  {
   "cell_type": "code",
   "execution_count": 13,
   "metadata": {},
   "outputs": [
    {
     "data": {
      "image/png": "[encoded data removed]",
      "text/plain": [
       "<Figure size 1200x600 with 1 Axes>"
      ]
     },
     "metadata": {},
     "output_type": "display_data"
    }
   ],
   "source": [
    "#visualize which features are most influential in predicting sales.Post Prediction Analysis\n",
    "#Feature Importance\n",
    "#explore feature importance in Random Forest model, extract the feature importances from the trained model within pipeline. \n",
    "\n",
    "# Access the Random Forest model from the pipeline\n",
    "model = pipeline.named_steps['model']\n",
    "\n",
    "# Get feature names after preprocessing\n",
    "categorical_transformer = pipeline.named_steps['preprocessor'].named_transformers_['cat']\n",
    "ohe = categorical_transformer\n",
    "\n",
    "# Combine feature names\n",
    "feature_names = np.concatenate([numeric_features, ohe.get_feature_names_out(categorical_features)])\n",
    "\n",
    "# Get feature importances\n",
    "importances = model.feature_importances_\n",
    "\n",
    "# Create a DataFrame for easier plotting\n",
    "feature_importance_df = pd.DataFrame({\n",
    "    'Feature': feature_names,\n",
    "    'Importance': importances\n",
    "}).sort_values(by='Importance', ascending=False)\n",
    "\n",
    "# Plot feature importances\n",
    "plt.figure(figsize=(12, 6))\n",
    "plt.barh(feature_importance_df['Feature'], feature_importance_df['Importance'])\n",
    "plt.xlabel('Importance')\n",
    "plt.title('Feature Importance')\n",
    "plt.show()\n"
   ]
  },
  {
   "cell_type": "markdown",
   "metadata": {},
   "source": [
    "#. Estimating Confidence Intervals for Predictions\n",
    "#To estimate the confidence interval of predictions, use the concept of bootstrapping. This involves creating multiple subsets of training data, training the model on each subset, and then making predictions. By aggregating these predictions, estimate a confidence interval around predictions.\n",
    "#By analyzing feature importance, understand the drivers behind sales predictions. Using bootstrapping to estimate confidence intervals provides a robust way to quantify the uncertainty of predictions, helping to make informed decisions based on the predictions and their reliability.\n"
   ]
  },
  {
   "cell_type": "code",
   "execution_count": 21,
   "metadata": {},
   "outputs": [
    {
     "name": "stdout",
     "output_type": "stream",
     "text": [
      "        Actual Sales  Predicted Sales  Lower CI  Upper CI\n",
      "76435      -1.499723        -1.499723 -1.499723 -1.499723\n",
      "923026     -0.058655         0.579576  0.493659  0.668571\n",
      "731180      0.439796         0.693115  0.602892  0.760714\n",
      "790350     -0.626978        -0.642233 -0.688861 -0.592992\n",
      "252134      1.465011         0.708196  0.639597  0.769750\n"
     ]
    }
   ],
   "source": [
    "# Define a function for bootstrapping\n",
    "# Function for bootstrapping predictions with batch processing\n",
    "def bootstrap_predictions(model, X_train, y_train, X_val, n_iterations=100, batch_size=100):\n",
    "    pred_mean = np.zeros(X_val.shape[0])\n",
    "    lower_bound = np.zeros(X_val.shape[0])\n",
    "    upper_bound = np.zeros(X_val.shape[0])\n",
    "\n",
    "    for batch_start in range(0, n_iterations, batch_size):\n",
    "        current_batch_size = min(batch_size, n_iterations - batch_start)\n",
    "        batch_preds = np.zeros((current_batch_size, X_val.shape[0]))\n",
    "        \n",
    "        for i in range(current_batch_size):\n",
    "            # Create a bootstrap sample\n",
    "            X_bootstrap = X_train.sample(frac=1, replace=True, random_state=batch_start + i)\n",
    "            y_bootstrap = y_train.loc[X_bootstrap.index]\n",
    "            \n",
    "            # Fit model on bootstrap sample\n",
    "            model.fit(X_bootstrap, y_bootstrap)\n",
    "            \n",
    "            # Store predictions for current iteration\n",
    "            batch_preds[i] = model.predict(X_val)\n",
    "        \n",
    "        # Update cumulative mean and confidence intervals\n",
    "        pred_mean += batch_preds.mean(axis=0)\n",
    "        lower_bound += np.percentile(batch_preds, 2.5, axis=0)\n",
    "        upper_bound += np.percentile(batch_preds, 97.5, axis=0)\n",
    "\n",
    "    # Average the means and percentiles over all batches\n",
    "    pred_mean /= (n_iterations // batch_size)\n",
    "    lower_bound /= (n_iterations // batch_size)\n",
    "    upper_bound /= (n_iterations // batch_size)\n",
    "\n",
    "    return pred_mean, lower_bound, upper_bound\n",
    "\n",
    "# Generate bootstrap predictions\n",
    "n_iterations = 100\n",
    "batch_size = 10\n",
    "pred_mean, lower_bound, upper_bound = bootstrap_predictions(pipeline, X_train, y_train, X_val, n_iterations, batch_size)\n",
    "\n",
    "# Display results\n",
    "results_df = pd.DataFrame({\n",
    "    'Actual Sales': y_val,\n",
    "    'Predicted Sales': y_pred,\n",
    "    'Lower CI': lower_bound,\n",
    "    'Upper CI': upper_bound\n",
    "})\n",
    "\n",
    "print(results_df.head())         "
   ]
  },
  {
   "cell_type": "markdown",
   "metadata": {},
   "source": [
    "#Serializing Models\n",
    "#To serialize trained model with a timestamp, it has used the joblib library, which is efficient for saving large objects like scikit-learn models."
   ]
  },
  {
   "cell_type": "markdown",
   "metadata": {},
   "source": [
    "datetime.now().strftime(\"%d-%m-%Y-%H-%M-%S\"): This line generates a timestamp in the specified format (day-month-year-hour-minute-second).\n",
    "joblib.dump(pipeline, filename): This line saves the entire pipeline, including preprocessing steps and the trained model, to a .pkl file."
   ]
  },
  {
   "cell_type": "code",
   "execution_count": 22,
   "metadata": {},
   "outputs": [
    {
     "ename": "FileNotFoundError",
     "evalue": "[Errno 2] No such file or directory: 'models/random_forest_model_24-09-2024-04-31-41.pkl'",
     "output_type": "error",
     "traceback": [
      "\u001b[1;31m---------------------------------------------------------------------------\u001b[0m",
      "\u001b[1;31mFileNotFoundError\u001b[0m                         Traceback (most recent call last)",
      "Cell \u001b[1;32mIn[22], line 12\u001b[0m\n\u001b[0;32m      9\u001b[0m filename \u001b[38;5;241m=\u001b[39m \u001b[38;5;124mf\u001b[39m\u001b[38;5;124m'\u001b[39m\u001b[38;5;124mmodels/random_forest_model_\u001b[39m\u001b[38;5;132;01m{\u001b[39;00mtimestamp\u001b[38;5;132;01m}\u001b[39;00m\u001b[38;5;124m.pkl\u001b[39m\u001b[38;5;124m'\u001b[39m\n\u001b[0;32m     11\u001b[0m \u001b[38;5;66;03m# Serialize the pipeline (model)\u001b[39;00m\n\u001b[1;32m---> 12\u001b[0m \u001b[43mjoblib\u001b[49m\u001b[38;5;241;43m.\u001b[39;49m\u001b[43mdump\u001b[49m\u001b[43m(\u001b[49m\u001b[43mpipeline\u001b[49m\u001b[43m,\u001b[49m\u001b[43m \u001b[49m\u001b[43mfilename\u001b[49m\u001b[43m)\u001b[49m\n\u001b[0;32m     14\u001b[0m \u001b[38;5;28mprint\u001b[39m(\u001b[38;5;124mf\u001b[39m\u001b[38;5;124m'\u001b[39m\u001b[38;5;124mModel serialized and saved as: \u001b[39m\u001b[38;5;132;01m{\u001b[39;00mfilename\u001b[38;5;132;01m}\u001b[39;00m\u001b[38;5;124m'\u001b[39m)\n",
      "File \u001b[1;32md:\\Data Science\\10acadamy\\plony_env\\Lib\\site-packages\\joblib\\numpy_pickle.py:552\u001b[0m, in \u001b[0;36mdump\u001b[1;34m(value, filename, compress, protocol, cache_size)\u001b[0m\n\u001b[0;32m    550\u001b[0m         NumpyPickler(f, protocol\u001b[38;5;241m=\u001b[39mprotocol)\u001b[38;5;241m.\u001b[39mdump(value)\n\u001b[0;32m    551\u001b[0m \u001b[38;5;28;01melif\u001b[39;00m is_filename:\n\u001b[1;32m--> 552\u001b[0m     \u001b[38;5;28;01mwith\u001b[39;00m \u001b[38;5;28;43mopen\u001b[39;49m\u001b[43m(\u001b[49m\u001b[43mfilename\u001b[49m\u001b[43m,\u001b[49m\u001b[43m \u001b[49m\u001b[38;5;124;43m'\u001b[39;49m\u001b[38;5;124;43mwb\u001b[39;49m\u001b[38;5;124;43m'\u001b[39;49m\u001b[43m)\u001b[49m \u001b[38;5;28;01mas\u001b[39;00m f:\n\u001b[0;32m    553\u001b[0m         NumpyPickler(f, protocol\u001b[38;5;241m=\u001b[39mprotocol)\u001b[38;5;241m.\u001b[39mdump(value)\n\u001b[0;32m    554\u001b[0m \u001b[38;5;28;01melse\u001b[39;00m:\n",
      "\u001b[1;31mFileNotFoundError\u001b[0m: [Errno 2] No such file or directory: 'models/random_forest_model_24-09-2024-04-31-41.pkl'"
     ]
    }
   ],
   "source": [
    "#Save the model with a timestamp: Use the current date and time to generate a unique filename for serialized model.\n",
    "import joblib\n",
    "from datetime import datetime\n",
    "\n",
    "# Create a timestamp\n",
    "timestamp = datetime.now().strftime(\"%d-%m-%Y-%H-%M-%S\")\n",
    "\n",
    "# Define the filename with the timestamp\n",
    "filename = f'models/random_forest_model_{timestamp}.pkl'\n",
    "\n",
    "# Serialize the pipeline (model)\n",
    "joblib.dump(pipeline, filename)\n",
    "\n",
    "print(f'Model serialized and saved as: {filename}')\n"
   ]
  },
  {
   "cell_type": "markdown",
   "metadata": {},
   "source": [
    "2.6 Building model with deep learning \n",
    "Deep Learning techniques can be used to predict various outcomes including but not limited to future sales. Your task is to create a deep learning model of the Long Short Term Memory which is a type of Recurrent Neural Network. \n",
    "You can use either Tensorflow or Pytorch libraries for model building. The model should not be very deep (Two layers) due to the computational requirements, it should comfortably run in Google Colab. \n",
    "1.\tIsolate the Rossmann Store Sales dataset into time series data     \n",
    "2.\tCheck whether your time Series Data is Stationary\n",
    "3.\tDepending on your conclusion from 2 above differences your time series data\n",
    "4.\tCheck for autocorrelation and partial autocorrelation of your data\n",
    "5.\tTransform the time series data into supervised learning data by creating a new y(target) column. For example, as illustrated here in the Sliding Window For Time Series Data section \n",
    "6.\tScale your data in the (-1, 1) range\n",
    "7.\tBuild an LSTM Regression model to predict the next sale. "
   ]
  },
  {
   "cell_type": "code",
   "execution_count": 24,
   "metadata": {},
   "outputs": [],
   "source": [
    "#Building an LSTM Model for Time Series Sales Prediction\n",
    "#Here’s a step-by-step guide to implement an LSTM model using TensorFlow/Keras for predicting Rossmann Store sales. This will cover all the steps you've outlined.\n",
    "\n",
    "#Isolate the Rossmann Store Sales dataset into time series data\n",
    "#Assuming you have the train dataset already loaded:\n",
    "import pandas as pd\n",
    "\n",
    "# Convert 'Date' column to datetime format\n",
    "train['Date'] = pd.to_datetime(train['Date'])\n",
    "\n",
    "# Sort the data by date\n",
    "train = train.sort_values('Date')\n",
    "\n",
    "# Isolate the relevant columns 'Date' and 'Sales'\n",
    "time_series_data = train[['Date', 'Sales']]\n"
   ]
  },
  {
   "cell_type": "code",
   "execution_count": 25,
   "metadata": {},
   "outputs": [
    {
     "ename": "MemoryError",
     "evalue": "Unable to allocate 287. MiB for an array with shape (37, 1017087) and data type float64",
     "output_type": "error",
     "traceback": [
      "\u001b[1;31m---------------------------------------------------------------------------\u001b[0m",
      "\u001b[1;31mMemoryError\u001b[0m                               Traceback (most recent call last)",
      "Cell \u001b[1;32mIn[25], line 5\u001b[0m\n\u001b[0;32m      1\u001b[0m \u001b[38;5;66;03m# Check whether the time series data is stationary\u001b[39;00m\n\u001b[0;32m      2\u001b[0m \u001b[38;5;66;03m# use the Augmented Dickey-Fuller test from the statsmodels library to check for stationarity #If the p-value is less than 0.05, the series is stationary\u001b[39;00m\n\u001b[0;32m      3\u001b[0m \u001b[38;5;28;01mfrom\u001b[39;00m \u001b[38;5;21;01mstatsmodels\u001b[39;00m\u001b[38;5;21;01m.\u001b[39;00m\u001b[38;5;21;01mtsa\u001b[39;00m\u001b[38;5;21;01m.\u001b[39;00m\u001b[38;5;21;01mstattools\u001b[39;00m \u001b[38;5;28;01mimport\u001b[39;00m adfuller\n\u001b[1;32m----> 5\u001b[0m result \u001b[38;5;241m=\u001b[39m \u001b[43madfuller\u001b[49m\u001b[43m(\u001b[49m\u001b[43mtime_series_data\u001b[49m\u001b[43m[\u001b[49m\u001b[38;5;124;43m'\u001b[39;49m\u001b[38;5;124;43mSales\u001b[39;49m\u001b[38;5;124;43m'\u001b[39;49m\u001b[43m]\u001b[49m\u001b[43m)\u001b[49m\n\u001b[0;32m      6\u001b[0m \u001b[38;5;28mprint\u001b[39m(\u001b[38;5;124m'\u001b[39m\u001b[38;5;124mADF Statistic:\u001b[39m\u001b[38;5;124m'\u001b[39m, result[\u001b[38;5;241m0\u001b[39m])\n\u001b[0;32m      7\u001b[0m \u001b[38;5;28mprint\u001b[39m(\u001b[38;5;124m'\u001b[39m\u001b[38;5;124mp-value:\u001b[39m\u001b[38;5;124m'\u001b[39m, result[\u001b[38;5;241m1\u001b[39m])\n",
      "File \u001b[1;32md:\\Data Science\\10acadamy\\plony_env\\Lib\\site-packages\\statsmodels\\tsa\\stattools.py:326\u001b[0m, in \u001b[0;36madfuller\u001b[1;34m(x, maxlag, regression, autolag, store, regresults)\u001b[0m\n\u001b[0;32m    320\u001b[0m \u001b[38;5;66;03m# 1 for level\u001b[39;00m\n\u001b[0;32m    321\u001b[0m \u001b[38;5;66;03m# search for lag length with smallest information criteria\u001b[39;00m\n\u001b[0;32m    322\u001b[0m \u001b[38;5;66;03m# Note: use the same number of observations to have comparable IC\u001b[39;00m\n\u001b[0;32m    323\u001b[0m \u001b[38;5;66;03m# aic and bic: smaller is better\u001b[39;00m\n\u001b[0;32m    325\u001b[0m \u001b[38;5;28;01mif\u001b[39;00m \u001b[38;5;129;01mnot\u001b[39;00m regresults:\n\u001b[1;32m--> 326\u001b[0m     icbest, bestlag \u001b[38;5;241m=\u001b[39m \u001b[43m_autolag\u001b[49m\u001b[43m(\u001b[49m\n\u001b[0;32m    327\u001b[0m \u001b[43m        \u001b[49m\u001b[43mOLS\u001b[49m\u001b[43m,\u001b[49m\u001b[43m \u001b[49m\u001b[43mxdshort\u001b[49m\u001b[43m,\u001b[49m\u001b[43m \u001b[49m\u001b[43mfullRHS\u001b[49m\u001b[43m,\u001b[49m\u001b[43m \u001b[49m\u001b[43mstartlag\u001b[49m\u001b[43m,\u001b[49m\u001b[43m \u001b[49m\u001b[43mmaxlag\u001b[49m\u001b[43m,\u001b[49m\u001b[43m \u001b[49m\u001b[43mautolag\u001b[49m\n\u001b[0;32m    328\u001b[0m \u001b[43m    \u001b[49m\u001b[43m)\u001b[49m\n\u001b[0;32m    329\u001b[0m \u001b[38;5;28;01melse\u001b[39;00m:\n\u001b[0;32m    330\u001b[0m     icbest, bestlag, alres \u001b[38;5;241m=\u001b[39m _autolag(\n\u001b[0;32m    331\u001b[0m         OLS,\n\u001b[0;32m    332\u001b[0m         xdshort,\n\u001b[1;32m   (...)\u001b[0m\n\u001b[0;32m    337\u001b[0m         regresults\u001b[38;5;241m=\u001b[39mregresults,\n\u001b[0;32m    338\u001b[0m     )\n",
      "File \u001b[1;32md:\\Data Science\\10acadamy\\plony_env\\Lib\\site-packages\\statsmodels\\tsa\\stattools.py:133\u001b[0m, in \u001b[0;36m_autolag\u001b[1;34m(mod, endog, exog, startlag, maxlag, method, modargs, fitargs, regresults)\u001b[0m\n\u001b[0;32m    131\u001b[0m \u001b[38;5;28;01mfor\u001b[39;00m lag \u001b[38;5;129;01min\u001b[39;00m \u001b[38;5;28mrange\u001b[39m(startlag, startlag \u001b[38;5;241m+\u001b[39m maxlag \u001b[38;5;241m+\u001b[39m \u001b[38;5;241m1\u001b[39m):\n\u001b[0;32m    132\u001b[0m     mod_instance \u001b[38;5;241m=\u001b[39m mod(endog, exog[:, :lag], \u001b[38;5;241m*\u001b[39mmodargs)\n\u001b[1;32m--> 133\u001b[0m     results[lag] \u001b[38;5;241m=\u001b[39m \u001b[43mmod_instance\u001b[49m\u001b[38;5;241;43m.\u001b[39;49m\u001b[43mfit\u001b[49m\u001b[43m(\u001b[49m\u001b[43m)\u001b[49m\n\u001b[0;32m    135\u001b[0m \u001b[38;5;28;01mif\u001b[39;00m method \u001b[38;5;241m==\u001b[39m \u001b[38;5;124m\"\u001b[39m\u001b[38;5;124maic\u001b[39m\u001b[38;5;124m\"\u001b[39m:\n\u001b[0;32m    136\u001b[0m     icbest, bestlag \u001b[38;5;241m=\u001b[39m \u001b[38;5;28mmin\u001b[39m((v\u001b[38;5;241m.\u001b[39maic, k) \u001b[38;5;28;01mfor\u001b[39;00m k, v \u001b[38;5;129;01min\u001b[39;00m results\u001b[38;5;241m.\u001b[39mitems())\n",
      "File \u001b[1;32md:\\Data Science\\10acadamy\\plony_env\\Lib\\site-packages\\statsmodels\\regression\\linear_model.py:333\u001b[0m, in \u001b[0;36mRegressionModel.fit\u001b[1;34m(self, method, cov_type, cov_kwds, use_t, **kwargs)\u001b[0m\n\u001b[0;32m    328\u001b[0m \u001b[38;5;28;01mif\u001b[39;00m method \u001b[38;5;241m==\u001b[39m \u001b[38;5;124m\"\u001b[39m\u001b[38;5;124mpinv\u001b[39m\u001b[38;5;124m\"\u001b[39m:\n\u001b[0;32m    329\u001b[0m     \u001b[38;5;28;01mif\u001b[39;00m \u001b[38;5;129;01mnot\u001b[39;00m (\u001b[38;5;28mhasattr\u001b[39m(\u001b[38;5;28mself\u001b[39m, \u001b[38;5;124m'\u001b[39m\u001b[38;5;124mpinv_wexog\u001b[39m\u001b[38;5;124m'\u001b[39m) \u001b[38;5;129;01mand\u001b[39;00m\n\u001b[0;32m    330\u001b[0m             \u001b[38;5;28mhasattr\u001b[39m(\u001b[38;5;28mself\u001b[39m, \u001b[38;5;124m'\u001b[39m\u001b[38;5;124mnormalized_cov_params\u001b[39m\u001b[38;5;124m'\u001b[39m) \u001b[38;5;129;01mand\u001b[39;00m\n\u001b[0;32m    331\u001b[0m             \u001b[38;5;28mhasattr\u001b[39m(\u001b[38;5;28mself\u001b[39m, \u001b[38;5;124m'\u001b[39m\u001b[38;5;124mrank\u001b[39m\u001b[38;5;124m'\u001b[39m)):\n\u001b[1;32m--> 333\u001b[0m         \u001b[38;5;28mself\u001b[39m\u001b[38;5;241m.\u001b[39mpinv_wexog, singular_values \u001b[38;5;241m=\u001b[39m \u001b[43mpinv_extended\u001b[49m\u001b[43m(\u001b[49m\u001b[38;5;28;43mself\u001b[39;49m\u001b[38;5;241;43m.\u001b[39;49m\u001b[43mwexog\u001b[49m\u001b[43m)\u001b[49m\n\u001b[0;32m    334\u001b[0m         \u001b[38;5;28mself\u001b[39m\u001b[38;5;241m.\u001b[39mnormalized_cov_params \u001b[38;5;241m=\u001b[39m np\u001b[38;5;241m.\u001b[39mdot(\n\u001b[0;32m    335\u001b[0m             \u001b[38;5;28mself\u001b[39m\u001b[38;5;241m.\u001b[39mpinv_wexog, np\u001b[38;5;241m.\u001b[39mtranspose(\u001b[38;5;28mself\u001b[39m\u001b[38;5;241m.\u001b[39mpinv_wexog))\n\u001b[0;32m    337\u001b[0m         \u001b[38;5;66;03m# Cache these singular values for use later.\u001b[39;00m\n",
      "File \u001b[1;32md:\\Data Science\\10acadamy\\plony_env\\Lib\\site-packages\\statsmodels\\tools\\tools.py:274\u001b[0m, in \u001b[0;36mpinv_extended\u001b[1;34m(x, rcond)\u001b[0m\n\u001b[0;32m    272\u001b[0m     \u001b[38;5;28;01melse\u001b[39;00m:\n\u001b[0;32m    273\u001b[0m         s[i] \u001b[38;5;241m=\u001b[39m \u001b[38;5;241m0.\u001b[39m\n\u001b[1;32m--> 274\u001b[0m res \u001b[38;5;241m=\u001b[39m \u001b[43mnp\u001b[49m\u001b[38;5;241;43m.\u001b[39;49m\u001b[43mdot\u001b[49m\u001b[43m(\u001b[49m\u001b[43mnp\u001b[49m\u001b[38;5;241;43m.\u001b[39;49m\u001b[43mtranspose\u001b[49m\u001b[43m(\u001b[49m\u001b[43mvt\u001b[49m\u001b[43m)\u001b[49m\u001b[43m,\u001b[49m\u001b[43m \u001b[49m\u001b[43mnp\u001b[49m\u001b[38;5;241;43m.\u001b[39;49m\u001b[43mmultiply\u001b[49m\u001b[43m(\u001b[49m\u001b[43ms\u001b[49m\u001b[43m[\u001b[49m\u001b[43m:\u001b[49m\u001b[43m,\u001b[49m\u001b[43m \u001b[49m\u001b[43mnp\u001b[49m\u001b[38;5;241;43m.\u001b[39;49m\u001b[43mnewaxis\u001b[49m\u001b[43m]\u001b[49m\u001b[43m,\u001b[49m\n\u001b[0;32m    275\u001b[0m \u001b[43m                                           \u001b[49m\u001b[43mnp\u001b[49m\u001b[38;5;241;43m.\u001b[39;49m\u001b[43mtranspose\u001b[49m\u001b[43m(\u001b[49m\u001b[43mu\u001b[49m\u001b[43m)\u001b[49m\u001b[43m)\u001b[49m\u001b[43m)\u001b[49m\n\u001b[0;32m    276\u001b[0m \u001b[38;5;28;01mreturn\u001b[39;00m res, s_orig\n",
      "\u001b[1;31mMemoryError\u001b[0m: Unable to allocate 287. MiB for an array with shape (37, 1017087) and data type float64"
     ]
    }
   ],
   "source": [
    "# Check whether the time series data is stationary\n",
    "# use the Augmented Dickey-Fuller test from the statsmodels library to check for stationarity #If the p-value is less than 0.05, the series is stationary\n",
    "from statsmodels.tsa.stattools import adfuller\n",
    "\n",
    "result = adfuller(time_series_data['Sales'])\n",
    "print('ADF Statistic:', result[0])\n",
    "print('p-value:', result[1])\n"
   ]
  },
  {
   "cell_type": "code",
   "execution_count": null,
   "metadata": {},
   "outputs": [],
   "source": [
    "# Difference your time series data if not stationary\n",
    "#If the series is not stationary, it can difference it:\n",
    "time_series_data['Sales_diff'] = time_series_data['Sales'].diff().dropna()"
   ]
  },
  {
   "cell_type": "code",
   "execution_count": null,
   "metadata": {},
   "outputs": [],
   "source": [
    "# Check for autocorrelation and partial autocorrelation\n",
    "#visualize the ACF and PACF using the statsmodels library:\n",
    "import matplotlib.pyplot as plt\n",
    "from statsmodels.graphics.tsaplots import plot_acf, plot_pacf\n",
    "\n",
    "plot_acf(time_series_data['Sales_diff'].dropna())\n",
    "plt.title('Autocorrelation')\n",
    "plt.show()\n",
    "\n",
    "plot_pacf(time_series_data['Sales_diff'].dropna())\n",
    "plt.title('Partial Autocorrelation')\n",
    "plt.show()\n"
   ]
  },
  {
   "cell_type": "code",
   "execution_count": null,
   "metadata": {},
   "outputs": [],
   "source": [
    "# Transform the time series data into supervised learning data\n",
    "#create a sliding window to transform the data into a supervised learning format:\n",
    "def create_dataset(data, time_step=1):\n",
    "    X, y = [], []\n",
    "    for i in range(len(data) - time_step - 1):\n",
    "        X.append(data[i:(i + time_step), 0])\n",
    "        y.append(data[i + time_step, 0])\n",
    "    return np.array(X), np.array(y)\n",
    "\n",
    "# Convert to numpy array\n",
    "sales_values = time_series_data['Sales'].values.reshape(-1, 1)\n",
    "\n",
    "# Create dataset\n",
    "X, y = create_dataset(sales_values, time_step=5)  # Using 5 previous days to predict the next day\n"
   ]
  },
  {
   "cell_type": "code",
   "execution_count": null,
   "metadata": {},
   "outputs": [],
   "source": [
    "# Scale the data in the (-1, 1) range\n",
    "#Use MinMaxScaler for scaling\n",
    "from sklearn.preprocessing import MinMaxScaler\n",
    "\n",
    "scaler = MinMaxScaler(feature_range=(-1, 1))\n",
    "X_scaled = scaler.fit_transform(X)\n",
    "y_scaled = scaler.fit_transform(y.reshape(-1, 1))\n"
   ]
  },
  {
   "cell_type": "code",
   "execution_count": null,
   "metadata": {},
   "outputs": [],
   "source": [
    "# Build an LSTM Regression model\n",
    "# create and train the LSTM model:\n",
    "import numpy as np\n",
    "import tensorflow as tf\n",
    "from tensorflow.keras.models import Sequential\n",
    "from tensorflow.keras.layers import LSTM, Dense, Dropout\n",
    "\n",
    "# Reshape input to be [samples, time steps, features]\n",
    "X_scaled = X_scaled.reshape(X_scaled.shape[0], X_scaled.shape[1], 1)\n",
    "\n",
    "# Build the LSTM model\n",
    "model = Sequential()\n",
    "model.add(LSTM(50, return_sequences=True, input_shape=(X_scaled.shape[1], 1)))\n",
    "model.add(Dropout(0.2))\n",
    "model.add(LSTM(50))\n",
    "model.add(Dropout(0.2))\n",
    "model.add(Dense(1)) \n",
    "# Output layer\n",
    "model.compile(optimizer='adam', loss='mean_squared_error')\n",
    "\n",
    "# Train the model\n",
    "model.fit(X_scaled, y_scaled, epochs=50, batch_size=32)\n"
   ]
  },
  {
   "cell_type": "code",
   "execution_count": null,
   "metadata": {},
   "outputs": [],
   "source": [
    "# Experimenting with Different Models Gradient Boosting and XGBoost\n",
    "from sklearn.ensemble import GradientBoostingRegressor\n",
    "from xgboost import XGBRegressor\n",
    "\n",
    "# Gradient Boosting\n",
    "gb_pipeline = Pipeline(steps=[\n",
    "    ('preprocessor', preprocessor),\n",
    "    ('model', GradientBoostingRegressor(random_state=42))\n",
    "])\n",
    "\n",
    "gb_pipeline.fit(X_train, y_train)\n",
    "gb_y_pred = gb_pipeline.predict(X_val)\n",
    "gb_mse = mean_squared_error(y_val, gb_y_pred)\n",
    "\n",
    "print(f'Gradient Boosting Mean Squared Error: {gb_mse}')"
   ]
  },
  {
   "cell_type": "code",
   "execution_count": null,
   "metadata": {},
   "outputs": [],
   "source": [
    "# XGBoost\n",
    "xgb_pipeline = Pipeline(steps=[\n",
    "    ('preprocessor', preprocessor),\n",
    "    ('model', XGBRegressor(random_state=42))\n",
    "])\n",
    "\n",
    "xgb_pipeline.fit(X_train, y_train)\n",
    "xgb_y_pred = xgb_pipeline.predict(X_val)\n",
    "xgb_mse = mean_squared_error(y_val, xgb_y_pred)\n",
    "\n",
    "print(f'XGBoost Mean Squared Error: {xgb_mse}')\n"
   ]
  },
  {
   "cell_type": "code",
   "execution_count": 18,
   "metadata": {},
   "outputs": [
    {
     "ename": "AttributeError",
     "evalue": "'numpy.ndarray' object has no attribute 'select_dtypes'",
     "output_type": "error",
     "traceback": [
      "\u001b[1;31m---------------------------------------------------------------------------\u001b[0m",
      "\u001b[1;31mAttributeError\u001b[0m                            Traceback (most recent call last)",
      "Cell \u001b[1;32mIn[18], line 1\u001b[0m\n\u001b[1;32m----> 1\u001b[0m mixed_type_columns \u001b[38;5;241m=\u001b[39m \u001b[43mX_train\u001b[49m\u001b[38;5;241;43m.\u001b[39;49m\u001b[43mselect_dtypes\u001b[49m(include\u001b[38;5;241m=\u001b[39m[\u001b[38;5;124m'\u001b[39m\u001b[38;5;124mobject\u001b[39m\u001b[38;5;124m'\u001b[39m, \u001b[38;5;124m'\u001b[39m\u001b[38;5;124mint64\u001b[39m\u001b[38;5;124m'\u001b[39m, \u001b[38;5;124m'\u001b[39m\u001b[38;5;124mfloat64\u001b[39m\u001b[38;5;124m'\u001b[39m])\u001b[38;5;241m.\u001b[39mcolumns\n\u001b[0;32m      3\u001b[0m \u001b[38;5;28;01mfor\u001b[39;00m col \u001b[38;5;129;01min\u001b[39;00m mixed_type_columns:\n\u001b[0;32m      4\u001b[0m     types_in_col \u001b[38;5;241m=\u001b[39m X_train[col]\u001b[38;5;241m.\u001b[39mapply(\u001b[38;5;28;01mlambda\u001b[39;00m x: \u001b[38;5;28mtype\u001b[39m(x))\u001b[38;5;241m.\u001b[39munique()\n",
      "\u001b[1;31mAttributeError\u001b[0m: 'numpy.ndarray' object has no attribute 'select_dtypes'"
     ]
    }
   ],
   "source": [
    "# Cross-Validation Used cross-validation to evaluate the model's performance\n",
    "from sklearn.model_selection import cross_val_score\n",
    "\n",
    "# Cross-validation for the best model\n",
    "cv_scores = cross_val_score(grid_search.best_estimator_, X, y, cv=5, scoring='neg_mean_squared_error')\n",
    "print(f'Cross-Validated Mean Squared Error: {-cv_scores.mean()}')\n"
   ]
  },
  {
   "cell_type": "code",
   "execution_count": null,
   "metadata": {},
   "outputs": [],
   "source": [
    "# SHAP for interpretability\n",
    "import shap\n",
    "\n",
    "# Initialize the SHAP explainer\n",
    "explainer = shap.Explainer(pipeline.named_steps['model'], X_train)\n",
    "\n",
    "# Calculate SHAP values for the validation set\n",
    "shap_values = explainer(X_val)\n",
    "\n",
    "# Plot SHAP values for the first prediction\n",
    "shap.initjs()  # This initializes the JavaScript visualization in Jupyter notebooks\n",
    "shap.plots.waterfall(shap_values[0])  # Plot for the first prediction\n",
    "\n",
    "# Save SHAP summary plot\n",
    "shap.summary_plot(shap_values, X_val, show=False)  # `show=False` prevents immediate display\n",
    "plt.savefig('shap_summary_plot.png')\n"
   ]
  },
  {
   "cell_type": "markdown",
   "metadata": {},
   "source": [
    "3. Explore the Data\n",
    "Summary statistics of the dataset.\n",
    "Correlation between features.\n",
    "Visualization of distributions for important features."
   ]
  },
  {
   "cell_type": "code",
   "execution_count": null,
   "metadata": {},
   "outputs": [],
   "source": [
    "# Summary statistics\n",
    "print(train.describe())\n",
    "\n",
    "# Correlation matrix\n",
    "correlation_matrix = train.corr()\n",
    "plt.figure(figsize=(12, 8))\n",
    "sns.heatmap(correlation_matrix, annot=True, fmt=\".2f\", cmap='coolwarm')\n",
    "plt.title('Correlation Matrix')\n",
    "plt.show()\n",
    "\n",
    "# Distribution of sales\n",
    "plt.figure(figsize=(10, 6))\n",
    "sns.histplot(train['Sales'], bins=30, kde=True)\n",
    "plt.title('Distribution of Sales')\n",
    "plt.xlabel('Sales')\n",
    "plt.ylabel('Frequency')\n",
    "plt.show()\n"
   ]
  },
  {
   "cell_type": "code",
   "execution_count": null,
   "metadata": {},
   "outputs": [],
   "source": [
    "#Evaluate & Predict\n",
    "predictions = model.predict(generator)"
   ]
  }
 ],
 "metadata": {
  "kernelspec": {
   "display_name": "plony_env",
   "language": "python",
   "name": "python3"
  },
  "language_info": {
   "codemirror_mode": {
    "name": "ipython",
    "version": 3
   },
   "file_extension": ".py",
   "mimetype": "text/x-python",
   "name": "python",
   "nbconvert_exporter": "python",
   "pygments_lexer": "ipython3",
   "version": "3.12.4"
  }
 },
 "nbformat": 4,
 "nbformat_minor": 2
}
